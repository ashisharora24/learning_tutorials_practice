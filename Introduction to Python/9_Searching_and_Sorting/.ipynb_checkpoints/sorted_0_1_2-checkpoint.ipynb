{
 "cells": [
  {
   "cell_type": "code",
   "execution_count": null,
   "metadata": {},
   "outputs": [
    {
     "name": "stdout",
     "output_type": "stream",
     "text": [
      "string :  2 1 2 0 2 0 1\n",
      "---------------------\n",
      "i  0\n",
      "arr[i] 2\n",
      "k -1\n",
      "arr[i] 2\n",
      "arr[k] 1\n"
     ]
    }
   ],
   "source": [
    "import time\n",
    "start_time = time.time()\n",
    "\n",
    "\n",
    "\n",
    "def sorting_0_1_2(arr,n):\n",
    "    j=-1\n",
    "    k=0\n",
    "    for i in range(n):\n",
    "        print(\"---------------------\")\n",
    "        print (\"i \",i)\n",
    "        print(\"arr[i]\",arr[i])\n",
    "        condtion=True\n",
    "        counter=0\n",
    "        while condtion:\n",
    "            count+=1\n",
    "            print(\"counter : \",counter)\n",
    "            if arr[i]<1:\n",
    "                print(\"arr[i] is less than 1\")\n",
    "                j=j+1\n",
    "                arr[i],arr[j]=arr[j].arr[i]\n",
    "                condtion=False\n",
    "            elif arr[i]>1:\n",
    "                print(\"arr[i] is greater than one\")\n",
    "                k=k-1\n",
    "                print(\"k\",k)\n",
    "                print(\"arr[i]\",arr[i])\n",
    "                print(\"arr[k]\",arr[k])\n",
    "                arr[i],arr[k]=arr[k],arr[i]\n",
    "            else:\n",
    "                condition=False\n",
    "n=7\n",
    "string=\"2 1 2 0 2 0 1\"\n",
    "print(\"string : \",string)\n",
    "arr=[int(i) for i in string.split()]\n",
    "sorting_0_1_2(arr,n)\n",
    "[print(i,end=\" \") for i in arr]\n",
    "print(\"--- %s seconds ---\" % (time.time() - start_time))"
   ]
  },
  {
   "cell_type": "code",
   "execution_count": null,
   "metadata": {},
   "outputs": [],
   "source": []
  }
 ],
 "metadata": {
  "kernelspec": {
   "display_name": "Python 3",
   "language": "python",
   "name": "python3"
  },
  "language_info": {
   "codemirror_mode": {
    "name": "ipython",
    "version": 3
   },
   "file_extension": ".py",
   "mimetype": "text/x-python",
   "name": "python",
   "nbconvert_exporter": "python",
   "pygments_lexer": "ipython3",
   "version": "3.7.1"
  }
 },
 "nbformat": 4,
 "nbformat_minor": 2
}
