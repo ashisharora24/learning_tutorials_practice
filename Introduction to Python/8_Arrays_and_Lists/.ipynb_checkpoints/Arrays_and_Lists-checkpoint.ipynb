{
 "cells": [
  {
   "cell_type": "code",
   "execution_count": 3,
   "metadata": {},
   "outputs": [
    {
     "name": "stdout",
     "output_type": "stream",
     "text": [
      "['abcd', 'def', 5]\n"
     ]
    }
   ],
   "source": [
    "#Predict the Output\n",
    "\n",
    "#What will be the output of following code?\n",
    "\n",
    "li =['abcd','def']\n",
    "li.insert(4,5)\n",
    "print(li)"
   ]
  },
  {
   "cell_type": "code",
   "execution_count": 5,
   "metadata": {},
   "outputs": [
    {
     "name": "stdout",
     "output_type": "stream",
     "text": [
      "['abcd', 'def', 5]\n"
     ]
    }
   ],
   "source": [
    "#Predict the Output\n",
    "\n",
    "#What will be the output of following code?\n",
    "\n",
    "li = ['abcd',5,'def',5]\n",
    "li.remove(5)\n",
    "print(li)"
   ]
  },
  {
   "cell_type": "code",
   "execution_count": null,
   "metadata": {},
   "outputs": [],
   "source": [
    "#Predict the Output\n",
    "\n",
    "#What will be the output of following code?\n",
    "\n",
    "li = [5,2,6,8]\n",
    "li.pop(2)\n",
    "print(li)"
   ]
  }
 ],
 "metadata": {
  "kernelspec": {
   "display_name": "Python 3",
   "language": "python",
   "name": "python3"
  },
  "language_info": {
   "codemirror_mode": {
    "name": "ipython",
    "version": 3
   },
   "file_extension": ".py",
   "mimetype": "text/x-python",
   "name": "python",
   "nbconvert_exporter": "python",
   "pygments_lexer": "ipython3",
   "version": "3.7.1"
  }
 },
 "nbformat": 4,
 "nbformat_minor": 2
}
