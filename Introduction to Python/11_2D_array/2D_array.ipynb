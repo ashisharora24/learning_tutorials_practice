{
 "cells": [
  {
   "cell_type": "code",
   "execution_count": null,
   "metadata": {},
   "outputs": [],
   "source": [
    "li = [[1,2,3],[4,5,6],[7,8,9]]\n",
    "print(li[2][1])"
   ]
  },
  {
   "cell_type": "code",
   "execution_count": null,
   "metadata": {},
   "outputs": [],
   "source": [
    "li = [[1,2,3],[4,5,6],[7,8,9]]\n",
    "print(li[1][3])"
   ]
  },
  {
   "cell_type": "code",
   "execution_count": null,
   "metadata": {},
   "outputs": [],
   "source": [
    "li = [[1,2,3,4],[5,6],[7,8,9]]\n",
    "print(li[2])"
   ]
  },
  {
   "cell_type": "code",
   "execution_count": null,
   "metadata": {},
   "outputs": [],
   "source": [
    "li = [[1,2,3,4],[5,6],[7,8,9]]\n",
    "print(li[1][3])"
   ]
  },
  {
   "cell_type": "code",
   "execution_count": null,
   "metadata": {},
   "outputs": [],
   "source": [
    "li=['ashish','arora']\n",
    "li_new=[[i for i in ele] for ele in li]\n",
    "print(li_new)"
   ]
  },
  {
   "cell_type": "code",
   "execution_count": null,
   "metadata": {},
   "outputs": [],
   "source": [
    "li = [[1,2,3,4],[5,6],[7,8,9]]\n",
    "print(li[1][3])\n"
   ]
  },
  {
   "cell_type": "code",
   "execution_count": null,
   "metadata": {},
   "outputs": [],
   "source": [
    "li = [ele**2 for ele in range(5)]\n",
    "print(li)"
   ]
  },
  {
   "cell_type": "code",
   "execution_count": null,
   "metadata": {},
   "outputs": [],
   "source": [
    "li = [ele**2 for ele in range(10) if ele%3 ==0]\n",
    "print(li)"
   ]
  },
  {
   "cell_type": "code",
   "execution_count": null,
   "metadata": {},
   "outputs": [],
   "source": [
    "li = [[ i*j for j in range(4)] for i in range(3)]\n",
    "print(li)"
   ]
  },
  {
   "cell_type": "code",
   "execution_count": null,
   "metadata": {},
   "outputs": [],
   "source": [
    "li = [[ i*j for j in range(4)] for i in range(3)]\n",
    "print(li)\n"
   ]
  },
  {
   "cell_type": "code",
   "execution_count": null,
   "metadata": {},
   "outputs": [],
   "source": [
    "li = [['a','b','c','d'],['e','f'],['g','h','i']]\n",
    "print(\" \".join(row))for row in li;"
   ]
  },
  {
   "cell_type": "code",
   "execution_count": null,
   "metadata": {},
   "outputs": [],
   "source": [
    "li=[[1,2,3,4],[5,6,7,8],[9,10,11,12]]\n",
    "for j in range(4):\n",
    "    for ele in li:\n",
    "        print(ele[j],end = \" \")"
   ]
  },
  {
   "cell_type": "code",
   "execution_count": null,
   "metadata": {},
   "outputs": [],
   "source": [
    "def Largest_Row_or_Column(arr,n,m):\n",
    "    id=-1\n",
    "    type=\"\"\n",
    "    sum_all=0\n",
    "\n",
    "    for i in range(n):\n",
    "        sum_row=0\n",
    "        for j in arr[i]:\n",
    "            print(type(sum_row))\n",
    "            print(type(j))\n",
    "            sum_row+=j\n",
    "        if sum_row>sum_all:\n",
    "            type=\"row\"\n",
    "            id=i\n",
    "            sum_all=sum_row\n",
    "    for i in range(m):\n",
    "        sum_col=0\n",
    "        for j in range(n):\n",
    "            sum_col+=arr[j][i]\n",
    "        if sum_col>sum_all:\n",
    "            type=\"column\"\n",
    "            id=i\n",
    "            sum_all=sum_col\n",
    "\n",
    "    return type,id,sum_all\n",
    "\n",
    "n,m = [int(i) for i in input().split()]\n",
    "arr = input().split()\n",
    "d_arr = [[arr[(i*m)+j] for j in range(m)] for i in range(n)]\n",
    "type,id,sum = Largest_Row_or_Column(d_arr,n,m)\n",
    "print(type,\" \",id,\" \",sum)\n"
   ]
  },
  {
   "cell_type": "code",
   "execution_count": null,
   "metadata": {},
   "outputs": [],
   "source": [
    "\n",
    "def spiralPrint(arr):\n",
    "    row_start=0\n",
    "    col_start=0\n",
    "    row_end=len(arr)-1\n",
    "    col_end=len(arr[0])-1\n",
    "    type=\"ascending\"\n",
    "    current_col=-1\n",
    "\n",
    "    for i in range (row_end+col_end-1):\n",
    "        print(\"----------------------------\")\n",
    "        if i%2==0:\n",
    "            if type==\"ascending\":\n",
    "                print(\"----------------------------\")\n",
    "                print (\"row ascending\")\n",
    "                print (\"row_start : \",row_start,\"\\ncol_start : \",\\ncol_start,\"\\nrow_end : \",row_end,\"\\ncol_end : \",col_end,\"\\ncurrent_col : \",current_col)\n",
    "                for j in range(col_start,col_end):\n",
    "                    print (row_start,j)\n",
    "#                type=\"decending\"\n",
    "                row_start+=1\n",
    "                current_col=col_end-1\n",
    "            if type==\"decending\":\n",
    "                print(\"----------------------------\")\n",
    "                print(\"row descending\")\n",
    "                print (\"row_start : \",row_start,\"\\ncol_start : \",\\ncol_start,\"\\nrow_end : \",row_end,\"\\ncol_end : \",col_end,\"\\ncurrent_col : \",current_col)\n",
    "                for j in range(col_end-1,col_start-2,-1):\n",
    "                    print (row_end-1,j)\n",
    "#                type=\"ascending\"\n",
    "                current_col=col_start-1\n",
    "                row_end-=1\n",
    "        else:\n",
    "            if type==\"ascending\":\n",
    "                print(\"----------------------------\")\n",
    "                print (\"row_start : \",row_start,\"\\ncol_start : \",\\ncol_start,\"\\nrow_end : \",row_end,\"\\ncol_end : \",col_end,\"\\ncurrent_col : \",current_col)\n",
    "                print(\"column ascending\")\n",
    "                for j in range(row_start,row_end):\n",
    "                    print(j,current_col)\n",
    "                    type=\"decending\"\n",
    "                    col_start=1\n",
    "            if type==\"descending\":\n",
    "                print(\"----------------------------\")\n",
    "                print(\"column descending\")\n",
    "                print (\"row_start : \",row_start,\"\\ncol_start : \",\\ncol_start,\"\\nrow_end : \",row_end,\"\\ncol_end : \",col_end,\"\\ncurrent_col : \",current_col)\n",
    "                for j in range(row_end,row_start,-1):\n",
    "                    print(j,current_col)\n",
    "                    type=\"ascending\"\n",
    "                    col_end-=1\n",
    "\n",
    "\n",
    "#Main\n",
    "l=[int(i) for i in input().strip().split(' ')]\n",
    "m, n=l[0], l[1]\n",
    "arr = [ [ l[(j*n)+i+2] for i in range(n)] for j in range(m)]\n",
    "spiralPrint(arr)\n"
   ]
  },
  {
   "cell_type": "code",
   "execution_count": null,
   "metadata": {},
   "outputs": [
    {
     "name": "stdout",
     "output_type": "stream",
     "text": [
      "1 2 "
     ]
    }
   ],
   "source": [
    "i=1\n",
    "while i<5:\n",
    "    if i==3:\n",
    "        continue\n",
    "    print(i,end=\" \")\n",
    "    i = i + 1"
   ]
  },
  {
   "cell_type": "code",
   "execution_count": null,
   "metadata": {},
   "outputs": [],
   "source": []
  }
 ],
 "metadata": {
  "kernelspec": {
   "display_name": "Python 3",
   "language": "python",
   "name": "python3"
  },
  "language_info": {
   "codemirror_mode": {
    "name": "ipython",
    "version": 3
   },
   "file_extension": ".py",
   "mimetype": "text/x-python",
   "name": "python",
   "nbconvert_exporter": "python",
   "pygments_lexer": "ipython3",
   "version": "3.7.1"
  }
 },
 "nbformat": 4,
 "nbformat_minor": 2
}
