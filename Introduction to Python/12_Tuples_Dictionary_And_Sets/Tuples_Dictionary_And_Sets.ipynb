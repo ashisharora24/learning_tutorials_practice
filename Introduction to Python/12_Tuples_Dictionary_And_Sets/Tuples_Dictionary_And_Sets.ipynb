{
 "cells": [
  {
   "cell_type": "code",
   "execution_count": 5,
   "metadata": {},
   "outputs": [
    {
     "name": "stdout",
     "output_type": "stream",
     "text": [
      "(6, 7)\n"
     ]
    }
   ],
   "source": [
    "a = 5,6,7\n",
    "print(a[1:])"
   ]
  },
  {
   "cell_type": "code",
   "execution_count": 2,
   "metadata": {},
   "outputs": [
    {
     "ename": "TypeError",
     "evalue": "'tuple' object does not support item assignment",
     "output_type": "error",
     "traceback": [
      "\u001b[1;31m---------------------------------------------------------------------------\u001b[0m",
      "\u001b[1;31mTypeError\u001b[0m                                 Traceback (most recent call last)",
      "\u001b[1;32m<ipython-input-2-d490091a12c2>\u001b[0m in \u001b[0;36m<module>\u001b[1;34m\u001b[0m\n\u001b[0;32m      1\u001b[0m \u001b[0ma\u001b[0m \u001b[1;33m=\u001b[0m \u001b[1;36m5\u001b[0m\u001b[1;33m,\u001b[0m\u001b[1;36m6\u001b[0m\u001b[1;33m,\u001b[0m\u001b[1;36m7\u001b[0m\u001b[1;33m\u001b[0m\u001b[1;33m\u001b[0m\u001b[0m\n\u001b[1;32m----> 2\u001b[1;33m \u001b[0ma\u001b[0m\u001b[1;33m[\u001b[0m\u001b[1;36m2\u001b[0m\u001b[1;33m]\u001b[0m \u001b[1;33m=\u001b[0m \u001b[1;36m9\u001b[0m\u001b[1;33m\u001b[0m\u001b[1;33m\u001b[0m\u001b[0m\n\u001b[0m\u001b[0;32m      3\u001b[0m \u001b[0mprint\u001b[0m\u001b[1;33m(\u001b[0m\u001b[0ma\u001b[0m\u001b[1;33m)\u001b[0m\u001b[1;33m\u001b[0m\u001b[1;33m\u001b[0m\u001b[0m\n",
      "\u001b[1;31mTypeError\u001b[0m: 'tuple' object does not support item assignment"
     ]
    }
   ],
   "source": [
    "a = 5,6,7\n",
    "a[2] = 9 \n",
    "print(a)"
   ]
  },
  {
   "cell_type": "code",
   "execution_count": 6,
   "metadata": {},
   "outputs": [
    {
     "name": "stdout",
     "output_type": "stream",
     "text": [
      "(1, 2)\n"
     ]
    }
   ],
   "source": [
    "a = 1,2\n",
    "b = (4,5)\n",
    "d = (a,b)\n",
    "print(d[0])"
   ]
  },
  {
   "cell_type": "code",
   "execution_count": 7,
   "metadata": {},
   "outputs": [
    {
     "name": "stdout",
     "output_type": "stream",
     "text": [
      "4\n"
     ]
    }
   ],
   "source": [
    "a = 1,2\n",
    "b = (4,5)\n",
    "d = a+b\n",
    "print(d[2])"
   ]
  },
  {
   "cell_type": "code",
   "execution_count": 9,
   "metadata": {},
   "outputs": [
    {
     "name": "stdout",
     "output_type": "stream",
     "text": [
      "ab\n"
     ]
    }
   ],
   "source": [
    "a = (\"ab\",\"abc\",\"def\")\n",
    "print(min(a))"
   ]
  },
  {
   "cell_type": "code",
   "execution_count": 10,
   "metadata": {},
   "outputs": [
    {
     "name": "stdout",
     "output_type": "stream",
     "text": [
      "120\n"
     ]
    }
   ],
   "source": [
    "def multiply(a,b,c,*more):\n",
    "    value = a*b*c\n",
    "    for i in more:\n",
    "        value = value * i\n",
    "    return value\n",
    "V = multiply(1,2,3,4,5)\n",
    "print(V)\n"
   ]
  },
  {
   "cell_type": "code",
   "execution_count": 11,
   "metadata": {},
   "outputs": [
    {
     "name": "stdout",
     "output_type": "stream",
     "text": [
      "(9, 24)\n"
     ]
    }
   ],
   "source": [
    "def sum_multiply(a,b,*more):\n",
    "    sum_value = a+b\n",
    "    m_value = a*b\n",
    "    for i in more:\n",
    "        sum_value += i\n",
    "        m_value*=i\n",
    "    return sum_value,m_value\n",
    "s_m = sum_multiply(2,3,4)\n",
    "print(s_m)"
   ]
  },
  {
   "cell_type": "code",
   "execution_count": 12,
   "metadata": {},
   "outputs": [
    {
     "ename": "SyntaxError",
     "evalue": "invalid character in identifier (<ipython-input-12-3ea8b3cf0af1>, line 1)",
     "output_type": "error",
     "traceback": [
      "\u001b[1;36m  File \u001b[1;32m\"<ipython-input-12-3ea8b3cf0af1>\"\u001b[1;36m, line \u001b[1;32m1\u001b[0m\n\u001b[1;33m    d = {1:2, “abc”:5, “def”:7}\u001b[0m\n\u001b[1;37m                  ^\u001b[0m\n\u001b[1;31mSyntaxError\u001b[0m\u001b[1;31m:\u001b[0m invalid character in identifier\n"
     ]
    }
   ],
   "source": [
    "d = {1:2, “abc”:5, “def”:7}\n",
    "print(d[0])"
   ]
  },
  {
   "cell_type": "code",
   "execution_count": 13,
   "metadata": {},
   "outputs": [
    {
     "ename": "SyntaxError",
     "evalue": "invalid character in identifier (<ipython-input-13-f1ef5ea7a7a2>, line 1)",
     "output_type": "error",
     "traceback": [
      "\u001b[1;36m  File \u001b[1;32m\"<ipython-input-13-f1ef5ea7a7a2>\"\u001b[1;36m, line \u001b[1;32m1\u001b[0m\n\u001b[1;33m    d = {1:2, “abc”:5, “def”:7}\u001b[0m\n\u001b[1;37m                  ^\u001b[0m\n\u001b[1;31mSyntaxError\u001b[0m\u001b[1;31m:\u001b[0m invalid character in identifier\n"
     ]
    }
   ],
   "source": [
    "d = {1:2, “abc”:5, “def”:7}\n",
    "print(d.get(0,5))"
   ]
  },
  {
   "cell_type": "code",
   "execution_count": 14,
   "metadata": {},
   "outputs": [
    {
     "name": "stdout",
     "output_type": "stream",
     "text": [
      "5\n"
     ]
    }
   ],
   "source": [
    "d = {1:2, \"abc\":5, \"def\":7}\n",
    "print(d.get(0,5))"
   ]
  },
  {
   "cell_type": "code",
   "execution_count": 16,
   "metadata": {},
   "outputs": [
    {
     "name": "stdout",
     "output_type": "stream",
     "text": [
      "Not Present\n"
     ]
    }
   ],
   "source": [
    "d = {1:2, \"abc\":5, \"def\":7}\n",
    "if 2 in d:\n",
    "    print(\"Present\")\n",
    "else:\n",
    "    print(\"Not Present\")"
   ]
  },
  {
   "cell_type": "code",
   "execution_count": 18,
   "metadata": {},
   "outputs": [
    {
     "name": "stdout",
     "output_type": "stream",
     "text": [
      "7\n"
     ]
    }
   ],
   "source": [
    "a = {1:2,\"list\":[1,2],3:5}\n",
    "b = {4:5,3:7}\n",
    "a.update(b)\n",
    "print(a[3])"
   ]
  },
  {
   "cell_type": "code",
   "execution_count": 19,
   "metadata": {},
   "outputs": [
    {
     "name": "stdout",
     "output_type": "stream",
     "text": [
      "[3, 5]\n"
     ]
    }
   ],
   "source": [
    "a = {1:2,\"list\":[1,2],3:5}\n",
    "a.pop(\"list\")\n",
    "a[\"list\"] = [3,5]\n",
    "print(a[\"list\"])"
   ]
  },
  {
   "cell_type": "code",
   "execution_count": 20,
   "metadata": {},
   "outputs": [
    {
     "name": "stdout",
     "output_type": "stream",
     "text": [
      "5 5\n"
     ]
    }
   ],
   "source": [
    "s = {1,2,3,5,4,2,3,1}\n",
    "print(len(s),end= \" \")\n",
    "s.add(4)\n",
    "s.add(3)\n",
    "print(len(s))"
   ]
  },
  {
   "cell_type": "code",
   "execution_count": 21,
   "metadata": {},
   "outputs": [
    {
     "ename": "AttributeError",
     "evalue": "'dict' object has no attribute 'add'",
     "output_type": "error",
     "traceback": [
      "\u001b[1;31m---------------------------------------------------------------------------\u001b[0m",
      "\u001b[1;31mAttributeError\u001b[0m                            Traceback (most recent call last)",
      "\u001b[1;32m<ipython-input-21-fe0b187c920a>\u001b[0m in \u001b[0;36m<module>\u001b[1;34m\u001b[0m\n\u001b[0;32m      1\u001b[0m \u001b[0ms\u001b[0m \u001b[1;33m=\u001b[0m \u001b[1;33m{\u001b[0m\u001b[1;33m}\u001b[0m\u001b[1;33m\u001b[0m\u001b[1;33m\u001b[0m\u001b[0m\n\u001b[1;32m----> 2\u001b[1;33m \u001b[0ms\u001b[0m\u001b[1;33m.\u001b[0m\u001b[0madd\u001b[0m\u001b[1;33m(\u001b[0m\u001b[1;36m4\u001b[0m\u001b[1;33m)\u001b[0m\u001b[1;33m\u001b[0m\u001b[1;33m\u001b[0m\u001b[0m\n\u001b[0m\u001b[0;32m      3\u001b[0m \u001b[0ms\u001b[0m\u001b[1;33m.\u001b[0m\u001b[0madd\u001b[0m\u001b[1;33m(\u001b[0m\u001b[1;36m4\u001b[0m\u001b[1;33m)\u001b[0m\u001b[1;33m\u001b[0m\u001b[1;33m\u001b[0m\u001b[0m\n\u001b[0;32m      4\u001b[0m \u001b[0mprint\u001b[0m\u001b[1;33m(\u001b[0m\u001b[0mlen\u001b[0m\u001b[1;33m(\u001b[0m\u001b[0ms\u001b[0m\u001b[1;33m)\u001b[0m\u001b[1;33m)\u001b[0m\u001b[1;33m\u001b[0m\u001b[1;33m\u001b[0m\u001b[0m\n",
      "\u001b[1;31mAttributeError\u001b[0m: 'dict' object has no attribute 'add'"
     ]
    }
   ],
   "source": [
    "s = {}\n",
    "s.add(4)\n",
    "s.add(4)\n",
    "print(len(s))"
   ]
  },
  {
   "cell_type": "code",
   "execution_count": 29,
   "metadata": {},
   "outputs": [
    {
     "name": "stdout",
     "output_type": "stream",
     "text": [
      "11\n",
      "* \n",
      " * * \n",
      "  * * * \n",
      "   * * * * \n",
      "    * * * * * \n",
      "     * * * * * * \n",
      "    * * * * * \n",
      "   * * * * \n",
      "  * * * \n",
      " * * \n",
      "* \n",
      "\n"
     ]
    }
   ],
   "source": [
    "n = int(input())\n",
    "if n % 2 != 0 :\n",
    "    i = 0\n",
    "    while i < round(n/2):\n",
    "        j = 0\n",
    "        while j <= i-1:\n",
    "            print(\" \", end = \"\")\n",
    "            j = j + 1\n",
    "        j = 1\n",
    "        while j <= i+1:\n",
    "            print(\"* \", end = \"\")\n",
    "            j = j + 1\n",
    "        print()\n",
    "        i = i + 1\n",
    "    i = 0\n",
    "    while i < round(n/2):\n",
    "        k = round(n/2) - 2\n",
    "        while k >= i+1:\n",
    "            print(\" \", end = \"\")\n",
    "            k = k - 1\n",
    "        k = round(n/2) - 2\n",
    "        while k >= i :\n",
    "            print(\"* \", end = \"\")\n",
    "            k = k - 1\n",
    "        print()\n",
    "        i = i + 1\n",
    "else :\n",
    "    i = 0\n",
    "    while i < round(n/2):\n",
    "        j = 1\n",
    "        while j <= i:\n",
    "            print(\" \", end = \"\")\n",
    "            j = j + 1\n",
    "        j = 1\n",
    "        while j <= i+1:\n",
    "            print(\"* \", end = \"\")\n",
    "            j = j + 1\n",
    "        print()\n",
    "        i = i + 1\n",
    "    i = 0\n",
    "    while i < round(n/2):\n",
    "        k = round(n/2) - 1\n",
    "        while k >= i+1:\n",
    "            print(\" \", end = \"\")\n",
    "            k = k - 1\n",
    "        k = round(n/2) - 1\n",
    "        while k >= i :\n",
    "            print(\"* \", end = \"\")\n",
    "            k = k - 1\n",
    "        print()\n",
    "        i = i + 1"
   ]
  },
  {
   "cell_type": "code",
   "execution_count": null,
   "metadata": {},
   "outputs": [],
   "source": []
  },
  {
   "cell_type": "code",
   "execution_count": null,
   "metadata": {},
   "outputs": [],
   "source": []
  }
 ],
 "metadata": {
  "kernelspec": {
   "display_name": "Python 3",
   "language": "python",
   "name": "python3"
  },
  "language_info": {
   "codemirror_mode": {
    "name": "ipython",
    "version": 3
   },
   "file_extension": ".py",
   "mimetype": "text/x-python",
   "name": "python",
   "nbconvert_exporter": "python",
   "pygments_lexer": "ipython3",
   "version": "3.7.1"
  }
 },
 "nbformat": 4,
 "nbformat_minor": 2
}
